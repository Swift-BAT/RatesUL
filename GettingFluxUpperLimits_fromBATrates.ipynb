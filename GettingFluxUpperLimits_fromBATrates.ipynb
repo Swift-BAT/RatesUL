{
 "cells": [
  {
   "cell_type": "code",
   "execution_count": 1,
   "metadata": {},
   "outputs": [],
   "source": [
    "import numpy as np\n",
    "from astropy.table import Table, vstack\n",
    "import matplotlib.pyplot as plt\n",
    "import os"
   ]
  },
  {
   "cell_type": "code",
   "execution_count": 2,
   "metadata": {},
   "outputs": [],
   "source": [
    "%matplotlib inline"
   ]
  },
  {
   "cell_type": "code",
   "execution_count": 3,
   "metadata": {},
   "outputs": [],
   "source": [
    "# comptomized and band spectra functions\n",
    "# E is photon energy, A is normalization, E0 is pivot energy\n",
    "\n",
    "def band_Elow_spec(E, A, alpha, beta, Epeak, E0):\n",
    "    # A*((E/E0)**alpha)*exp[-(alpha+2)*E/Epeak]\n",
    "    return A*((E/E0)**(alpha))*np.exp(-(alpha+2.0)*E/Epeak)\n",
    "\n",
    "def band_Ehi_spec(E, A, alpha, beta, Epeak, E0):\n",
    "    # A*((E/E0)**beta)*exp[beta-alpha]*((alpha-beta)*(Epeak/E0)/(alpha+2))**(alpha-beta)\n",
    "    return A*((E/E0)**(beta))*np.exp(beta-alpha)*\\\n",
    "            ((alpha-beta)*(Epeak/E0)/(alpha+2.0))**(alpha-beta)\n",
    "\n",
    "def band_spec(E, A, alpha, beta, Epeak, E0=100.0):\n",
    "    '''\n",
    "    Band spectra\n",
    "    '''\n",
    "    \n",
    "    Ebreak = (alpha - beta)*Epeak/(alpha+2.0)\n",
    "    if np.isscalar(E):\n",
    "        if E < Ebreak:\n",
    "            return band_Elow_spec(E, A, alpha, beta, Epeak, E0)\n",
    "        else:\n",
    "            return band_Ehi_spec(E, A, alpha, beta, Epeak, E0)\n",
    "    low_inds = np.where((E<Ebreak))\n",
    "    hi_inds = np.where((E>=Ebreak))\n",
    "    spec = np.zeros_like(E)\n",
    "    spec[low_inds] = band_Elow_spec(E[low_inds], A, alpha, beta, Epeak, E0)\n",
    "    spec[hi_inds] = band_Ehi_spec(E[hi_inds], A, alpha, beta, Epeak, E0)\n",
    "    return spec\n",
    "    \n",
    "\n",
    "def comp_spec(E, A, alpha, Epeak, E0=100.0):\n",
    "    '''\n",
    "    Comptomized spectra\n",
    "    '''\n",
    "    \n",
    "    spec = A*((E/E0)**(alpha))*np.exp(-E*(2.+alpha)/Epeak)\n",
    "    return spec\n",
    "\n",
    "\n",
    "def get_comp_photon_fluxes(Elos, Ehis, A, alpha, Epeak, E0=100.0, Nsub_bins=10):\n",
    "    '''\n",
    "    Gets the photon flux (photons per cm2 per s) in a set of energy bins\n",
    "    for a Comptomized spectra\n",
    "    '''\n",
    "\n",
    "    \n",
    "    DeltaEs = Ehis - Elos\n",
    "    NEs = len(Elos)\n",
    "    \n",
    "    fluxes = np.zeros(NEs)\n",
    "    \n",
    "    # loops over photon energy bins\n",
    "    for i in range(NEs):\n",
    "        \n",
    "        Es = np.linspace(Elos[i], Ehis[i], Nsub_bins)\n",
    "        dE = Es[1] - Es[0]\n",
    "        # integrate spec*dE to get photon flux in bin\n",
    "        fluxes[i] = np.sum(comp_spec(Es, A, alpha, Epeak, E0=E0))*dE\n",
    "        \n",
    "    return fluxes\n",
    "\n",
    "def get_band_photon_fluxes(Elos, Ehis, A, alpha, beta, Epeak, E0=100.0, Nsub_bins=10):\n",
    "    '''\n",
    "    Gets the photon flux (photons per cm2 per s) in a set of energy bins\n",
    "    for a Band spectra\n",
    "    '''\n",
    "    \n",
    "    DeltaEs = Ehis - Elos\n",
    "    NEs = len(Elos)\n",
    "    \n",
    "    fluxes = np.zeros(NEs)\n",
    "    \n",
    "    # loops over photon energy bins\n",
    "    for i in range(NEs):\n",
    "        \n",
    "        Es = np.linspace(Elos[i], Ehis[i], Nsub_bins)\n",
    "        dE = Es[1] - Es[0]\n",
    "        # integrate spec*dE to get photon flux in bin\n",
    "        fluxes[i] = np.sum(band_spec(Es, A, alpha, beta, Epeak, E0=E0))*dE\n",
    "        \n",
    "    return fluxes\n",
    "\n",
    "\n",
    "def get_comp_rates(resp_mat, Elos, Ehis, A, alpha, Epeak, E0=100.0):\n",
    "    '''\n",
    "    Gets the expected rate count from a specific Comptomized spectra\n",
    "    in each energy bin\n",
    "    \n",
    "    resp_mat: the DRM\n",
    "    Elos: the low side of the Photon energy bins for the DRM\n",
    "    Ehis: the high side of the Photon energy bins for the DRM\n",
    "    A: spectral norm \n",
    "    alpha: alpha\n",
    "    Epeak: Epeak (keV)\n",
    "    \n",
    "    returns:\n",
    "    rates: array with a length of the number of energy bins in resp_mat\n",
    "    \n",
    "    '''\n",
    "    \n",
    "    # get photon flux in each photon energy bin\n",
    "    fluxes = get_comp_photon_fluxes(Elos, Ehis, A, alpha, Epeak, E0=E0)\n",
    "    # multiply DRM by photon fluxes and sum over photon energy axis\n",
    "    rates = np.sum(resp_mat*fluxes[:,np.newaxis], axis=0)\n",
    "    return rates\n",
    "\n",
    "def get_comp_eflux(Emin, Emax, A, alpha, Epeak, E0=100.0, Nbins=int(1e4)):\n",
    "    '''\n",
    "    Gets the energy flux from a specific Comptomized spectra from Emin to Emax\n",
    "    \n",
    "    Emin: the low bound of the energy flux\n",
    "    Emax: the high bound of the energy flux\n",
    "    A: spectral norm \n",
    "    alpha: alpha\n",
    "    Epeak: Epeak (keV)\n",
    "    \n",
    "    returns:\n",
    "    flux: float (erg / cm2 / s)\n",
    "    \n",
    "    '''\n",
    "    \n",
    "    Es = np.linspace(Emin, Emax, int(Nbins))\n",
    "    dE = Es[1] - Es[0]\n",
    "    kev2erg = 1.60218e-9\n",
    "    # integrate spectra*E*dE to get energy flux and convert to erg\n",
    "    flux = np.sum(comp_spec(Es, A, alpha, Epeak, E0=E0)*Es)*dE*kev2erg\n",
    "    return flux\n",
    "\n",
    "def rate2comp_eflux(rate, resp_mat, Elos, Ehis, alpha, Epeak, Emin, Emax):\n",
    "    '''\n",
    "    Returns the flux from a specific Comptomized spectra that would result in \n",
    "    an expected rate count (summed over all energy bins) of rate\n",
    "    \n",
    "    rate: total rate counts across energy bins\n",
    "    resp_mat: the DRM\n",
    "    Elos: the low side of the Photon energy bins for the DRM\n",
    "    Ehis: the high side of the Photon energy bins for the DRM\n",
    "    A: spectral norm \n",
    "    alpha: alpha\n",
    "    Epeak: Epeak (keV)\n",
    "    Emin: the low bound of the energy flux\n",
    "    Emax: the high bound of the energy flux\n",
    "    \n",
    "    returns:\n",
    "    flux: float (erg / cm2 / s)\n",
    "    \n",
    "    '''\n",
    "    \n",
    "    # first get what the rate would be given A=1\n",
    "    rates_norm = get_comp_rates(resp_mat, Elos, Ehis, 1.0, alpha, Epeak)\n",
    "    rate_norm = np.sum(rates_norm)\n",
    "    # Then A can be solved from A/A_norm = rate / rate_norm\n",
    "    # where A is the spec norm for the flux that creates \"rate\" counts\n",
    "    A = rate / rate_norm\n",
    "    flux = get_comp_eflux(Emin, Emax, A, alpha, Epeak)\n",
    "    return flux"
   ]
  },
  {
   "cell_type": "code",
   "execution_count": 4,
   "metadata": {},
   "outputs": [],
   "source": [
    "def get_band_rates(resp_mat, Elos, Ehis, A, alpha, beta, Epeak, E0=100.0):\n",
    "    '''\n",
    "    Gets the expected rate count from a specific BAND spectra\n",
    "    in each energy bin\n",
    "    \n",
    "    resp_mat: the DRM\n",
    "    Elos: the low side of the Photon energy bins for the DRM\n",
    "    Ehis: the high side of the Photon energy bins for the DRM\n",
    "    A: spectral norm \n",
    "    alpha: alpha\n",
    "    beta: beta\n",
    "    Epeak: Epeak (keV)\n",
    "    \n",
    "    returns:\n",
    "    rates: array with a length of the number of energy bins in resp_mat\n",
    "    \n",
    "    '''\n",
    "    \n",
    "    # get photon flux in each photon energy bin\n",
    "    fluxes = get_band_photon_fluxes(Elos, Ehis, A, alpha, beta, Epeak, E0=E0)\n",
    "    # multiply DRM by photon fluxes and sum over photon energy axis\n",
    "    rates = np.sum(resp_mat*fluxes[:,np.newaxis], axis=0)\n",
    "    return rates\n",
    "\n",
    "def get_band_eflux(Emin, Emax, A, alpha, beta, Epeak, E0=100.0, Nbins=int(1e4)):\n",
    "    '''\n",
    "    Gets the energy flux from a specific Band spectra from Emin to Emax\n",
    "    \n",
    "    Emin: the low bound of the energy flux\n",
    "    Emax: the high bound of the energy flux\n",
    "    A: spectral norm \n",
    "    alpha: alpha\n",
    "    beta: beta\n",
    "    Epeak: Epeak (keV)\n",
    "    \n",
    "    returns:\n",
    "    flux: float (erg / cm2 / s)\n",
    "    \n",
    "    '''\n",
    "    \n",
    "    Es = np.linspace(Emin, Emax, int(Nbins))\n",
    "    dE = Es[1] - Es[0]\n",
    "    kev2erg = 1.60218e-9\n",
    "    # integrate spectra*E*dE to get energy flux and convert to erg\n",
    "    flux = np.sum(band_spec(Es, A, alpha, beta, Epeak, E0=E0)*Es)*dE*kev2erg\n",
    "    return flux\n",
    "\n",
    "def rate2band_eflux(rate, resp_mat, Elos, Ehis, alpha, beta, Epeak, Emin, Emax):\n",
    "    '''\n",
    "    Returns the flux from a specific Band spectra that would result in \n",
    "    an expected rate count (summed over all energy bins) of rate\n",
    "    \n",
    "    rate: total rate counts across energy bins\n",
    "    resp_mat: the DRM\n",
    "    Elos: the low side of the Photon energy bins for the DRM\n",
    "    Ehis: the high side of the Photon energy bins for the DRM\n",
    "    A: spectral norm \n",
    "    alpha: alpha\n",
    "    beta: beta\n",
    "    Epeak: Epeak (keV)\n",
    "    Emin: the low bound of the energy flux\n",
    "    Emax: the high bound of the energy flux\n",
    "    \n",
    "    returns:\n",
    "    flux: float (erg / cm2 / s)\n",
    "    \n",
    "    '''\n",
    "    \n",
    "    # first get what the rate would be given A=1\n",
    "    rates_norm = get_band_rates(resp_mat, Elos, Ehis, 1.0, alpha, beta, Epeak)\n",
    "    rate_norm = np.sum(rates_norm)\n",
    "    # Then A can be solved from A/A_norm = rate / rate_norm\n",
    "    # where A is the spec norm for the flux that creates \"rate\" counts\n",
    "    A = rate / rate_norm\n",
    "    flux = get_band_eflux(Emin, Emax, A, alpha, beta, Epeak)\n",
    "    return flux"
   ]
  },
  {
   "cell_type": "code",
   "execution_count": 5,
   "metadata": {},
   "outputs": [],
   "source": [
    "# change these paths to where your response files are\n",
    "\n",
    "import os\n",
    "cwd = os.getcwd()\n",
    "\n",
    "drm_dir_old = cwd+'/rsp_maskweight'\n",
    "drm_dir_nitrates = cwd+'/rsp_NITRATES/'\n",
    "\n",
    "def get_drm_tab(grid_id, old=False, get_ebounds=False):\n",
    "    \n",
    "    num_str = str(grid_id)\n",
    "    if len(num_str) < 2:\n",
    "        num_str = '0' + num_str\n",
    "    \n",
    "    if old:\n",
    "        drm_fname = os.path.join(drm_dir_old, 'BAT_alldet_grid_%s.rsp'%(num_str))        \n",
    "        \n",
    "    else:\n",
    "        drm_fname = os.path.join(drm_dir_nitrates, 'BAT_alldet_grid_%s.rsp'%(num_str))\n",
    "        \n",
    "    drm_tab = Table.read(drm_fname)\n",
    "    if get_ebounds:\n",
    "        ebounds_tab = Table.read(drm_fname, hdu=2)\n",
    "        return drm_tab, ebounds_tab\n",
    "    return drm_tab"
   ]
  },
  {
   "cell_type": "code",
   "execution_count": 6,
   "metadata": {},
   "outputs": [],
   "source": [
    "# band spec shape params\n",
    "alpha = -1.0\n",
    "beta = -2.3\n",
    "Epeak = 230.0\n",
    "\n",
    "# flux integration bounds\n",
    "flux_elo = 15.0\n",
    "flux_ehi = 350.0"
   ]
  },
  {
   "cell_type": "code",
   "execution_count": 7,
   "metadata": {},
   "outputs": [
    {
     "name": "stdout",
     "output_type": "stream",
     "text": [
      "5sigma rate upper limit:  725.0\n",
      "grid_id:  17\n",
      "Nitrates response\n",
      "5sigma flux upper limit:  3.743442212750468e-08\n"
     ]
    },
    {
     "name": "stderr",
     "output_type": "stream",
     "text": [
      "WARNING: hdu= was not specified but multiple tables are present, reading in first available table (hdu=1) [astropy.io.fits.connect]\n"
     ]
    }
   ],
   "source": [
    "Ndets_tot = 32768.0 # total dets\n",
    "Ndets_active = 18000.0 # current number of active dets\n",
    "Ndet_ratio = Ndets_active / Ndets_tot\n",
    "Ndet_ratio = 1\n",
    "\n",
    "rate_std = 145.0 # the std of rates from the LC\n",
    "rate_upper_limit = 5*rate_std\n",
    "print(\"5sigma rate upper limit: \", rate_upper_limit)\n",
    "\n",
    "grid_id = 17\n",
    "\n",
    "print(\"grid_id: \", grid_id)\n",
    "\n",
    "# using energy bin 15-350 and ignoring 350-500\n",
    "chan_low = 0 \n",
    "chan_hi = 3\n",
    "\n",
    "# getting the NITRATES DRM table\n",
    "drm_tab = get_drm_tab(grid_id)\n",
    "\n",
    "# response matrix using selected energy bins and corrected for number of active dets\n",
    "drm_matrix = drm_tab['MATRIX'][:,chan_low:(chan_hi+1)]*Ndet_ratio \n",
    "\n",
    "# find the flux that gives an expected rate equal to the rate upper limit\n",
    "flux_upper_limit = rate2band_eflux(rate_upper_limit, drm_matrix,\\\n",
    "                                   drm_tab['ENERG_LO'], drm_tab['ENERG_HI'],\\\n",
    "                                   alpha, beta, Epeak, flux_elo, flux_ehi)\n",
    "print(\"Nitrates response\")\n",
    "print(\"5sigma flux upper limit: \", flux_upper_limit)"
   ]
  },
  {
   "cell_type": "code",
   "execution_count": 8,
   "metadata": {},
   "outputs": [
    {
     "name": "stdout",
     "output_type": "stream",
     "text": [
      "Old response\n",
      "5sigma flux upper limit:  4.4091263388170386e-08\n"
     ]
    }
   ],
   "source": [
    "\n",
    "# using energy bin 14-194.9\n",
    "chan_low_old = 3\n",
    "chan_hi_old = 78\n",
    "\n",
    "# getting the old DRM table\n",
    "drm_tab_old = get_drm_tab(grid_id, old=True)\n",
    "\n",
    "# response matrix using selected energy bins and corrected for number of active dets\n",
    "drm_matrix = drm_tab_old['MATRIX'][:,chan_low_old:(chan_hi_old+1)]*Ndet_ratio \n",
    "\n",
    "# find the flux that gives an expected rate equal to the rate upper limit\n",
    "flux_upper_limit = rate2band_eflux(rate_upper_limit, drm_matrix,\\\n",
    "                                   drm_tab_old['ENERG_LO'], drm_tab_old['ENERG_HI'],\\\n",
    "                                   alpha, beta, Epeak, flux_elo, flux_ehi)\n",
    "print(\"Old response\")\n",
    "print(\"5sigma flux upper limit: \", flux_upper_limit)"
   ]
  },
  {
   "cell_type": "code",
   "execution_count": 9,
   "metadata": {},
   "outputs": [
    {
     "name": "stdout",
     "output_type": "stream",
     "text": [
      "grid_id:  14\n",
      "Nitrates response\n",
      "5sigma flux upper limit:  1.7190842147854627e-07\n"
     ]
    }
   ],
   "source": [
    "grid_id = 14\n",
    "\n",
    "print(\"grid_id: \", grid_id)\n",
    "\n",
    "chan_low = 0\n",
    "chan_hi = 3\n",
    "\n",
    "drm_tab = get_drm_tab(grid_id)\n",
    "\n",
    "# response matrix using selected energy bins and corrected for number of active dets\n",
    "drm_matrix = drm_tab['MATRIX'][:,chan_low:(chan_hi+1)]*Ndet_ratio \n",
    "\n",
    "# find the flux that gives an expected rate equal to the rate upper limit\n",
    "flux_upper_limit = rate2band_eflux(rate_upper_limit, drm_matrix,\\\n",
    "                                   drm_tab['ENERG_LO'], drm_tab['ENERG_HI'],\\\n",
    "                                   alpha, beta, Epeak, flux_elo, flux_ehi)\n",
    "print(\"Nitrates response\")\n",
    "print(\"5sigma flux upper limit: \", flux_upper_limit)"
   ]
  },
  {
   "cell_type": "code",
   "execution_count": 10,
   "metadata": {},
   "outputs": [
    {
     "name": "stdout",
     "output_type": "stream",
     "text": [
      "Old response\n",
      "5sigma flux upper limit:  9.311813949417607e-07\n"
     ]
    }
   ],
   "source": [
    "\n",
    "chan_low_old = 3\n",
    "chan_hi_old = 78\n",
    "\n",
    "drm_tab_old = get_drm_tab(grid_id, old=True)\n",
    "\n",
    "# response matrix using selected energy bins and corrected for number of active dets\n",
    "drm_matrix = drm_tab_old['MATRIX'][:,chan_low_old:(chan_hi_old+1)]*Ndet_ratio \n",
    "\n",
    "# find the flux that gives an expected rate equal to the rate upper limit\n",
    "flux_upper_limit = rate2band_eflux(rate_upper_limit, drm_matrix,\\\n",
    "                                   drm_tab_old['ENERG_LO'], drm_tab_old['ENERG_HI'],\\\n",
    "                                   alpha, beta, Epeak, flux_elo, flux_ehi)\n",
    "print(\"Old response\")\n",
    "print(\"5sigma flux upper limit: \", flux_upper_limit)"
   ]
  },
  {
   "cell_type": "code",
   "execution_count": 11,
   "metadata": {},
   "outputs": [
    {
     "name": "stdout",
     "output_type": "stream",
     "text": [
      "grid_id:  17\n"
     ]
    },
    {
     "name": "stderr",
     "output_type": "stream",
     "text": [
      "WARNING: hdu= was not specified but multiple tables are present, reading in first available table (hdu=1) [astropy.io.fits.connect]\n"
     ]
    },
    {
     "data": {
      "text/plain": [
       "Text(0.5, 1.0, 'Grid ID 17')"
      ]
     },
     "execution_count": 11,
     "metadata": {},
     "output_type": "execute_result"
    },
    {
     "data": {
      "image/png": "[encoded data removed]",
      "text/plain": [
       "<Figure size 600x400 with 1 Axes>"
      ]
     },
     "metadata": {
      "needs_background": "light"
     },
     "output_type": "display_data"
    }
   ],
   "source": [
    "# plotting the effective Area \n",
    "grid_id = 17\n",
    "print(\"grid_id: \", grid_id)\n",
    "\n",
    "plt.figure(dpi=100)\n",
    "# getting the NITRATES DRM table\n",
    "drm_tab = get_drm_tab(grid_id)\n",
    "# response matrix using selected energy bins and corrected for number of active dets\n",
    "drm_matrix = drm_tab['MATRIX'][:,chan_low:(chan_hi+1)]*Ndet_ratio \n",
    "photon_Es = (drm_tab['ENERG_LO'] + drm_tab['ENERG_HI'])/2.\n",
    "Aeff = np.sum(drm_matrix, axis=1) # summing Aeff over energy bins for each photon Energy\n",
    "\n",
    "plt.plot(photon_Es, Aeff, label='NITRATES Resp')\n",
    "\n",
    "drm_tab_old = get_drm_tab(grid_id, old=True)\n",
    "# response matrix using selected energy bins and corrected for number of active dets\n",
    "drm_matrix_old = drm_tab_old['MATRIX'][:,chan_low_old:(chan_hi_old+1)]*Ndet_ratio \n",
    "photon_Es_old = (drm_tab_old['ENERG_LO'] + drm_tab_old['ENERG_HI'])/2.\n",
    "Aeff_old = np.sum(drm_matrix_old, axis=1) # summing Aeff over energy bins for each photon Energy\n",
    "\n",
    "plt.plot(photon_Es_old, Aeff_old, label='Old Resp')\n",
    "\n",
    "plt.grid(True)\n",
    "plt.xscale('log')\n",
    "plt.xlim(1e1, 2e3)\n",
    "plt.xlabel('Photon Energy (keV)')\n",
    "plt.ylabel(r'$A_{\\rm eff} (cm^2)$ ')\n",
    "plt.legend()\n",
    "plt.title(r'Grid ID %d'%(grid_id))"
   ]
  },
  {
   "cell_type": "code",
   "execution_count": 12,
   "metadata": {},
   "outputs": [
    {
     "name": "stdout",
     "output_type": "stream",
     "text": [
      "grid_id:  14\n"
     ]
    },
    {
     "name": "stderr",
     "output_type": "stream",
     "text": [
      "WARNING: hdu= was not specified but multiple tables are present, reading in first available table (hdu=1) [astropy.io.fits.connect]\n",
      "WARNING: hdu= was not specified but multiple tables are present, reading in first available table (hdu=1) [astropy.io.fits.connect]\n"
     ]
    },
    {
     "data": {
      "text/plain": [
       "Text(0.5, 1.0, 'Grid ID 14')"
      ]
     },
     "execution_count": 12,
     "metadata": {},
     "output_type": "execute_result"
    },
    {
     "data": {
      "image/png": "[encoded data removed]",
      "text/plain": [
       "<Figure size 600x400 with 1 Axes>"
      ]
     },
     "metadata": {
      "needs_background": "light"
     },
     "output_type": "display_data"
    }
   ],
   "source": [
    "# plotting the effective Area \n",
    "\n",
    "grid_id = 14\n",
    "print(\"grid_id: \", grid_id)\n",
    "\n",
    "plt.figure(dpi=100)\n",
    "# getting the NITRATES DRM table\n",
    "drm_tab = get_drm_tab(grid_id)\n",
    "# response matrix using selected energy bins and corrected for number of active dets\n",
    "drm_matrix = drm_tab['MATRIX'][:,chan_low:(chan_hi+1)]*Ndet_ratio \n",
    "photon_Es = (drm_tab['ENERG_LO'] + drm_tab['ENERG_HI'])/2.\n",
    "Aeff = np.sum(drm_matrix, axis=1) # summing Aeff over energy bins for each photon Energy\n",
    "\n",
    "plt.plot(photon_Es, Aeff, label='NITRATES Resp')\n",
    "\n",
    "drm_tab_old = get_drm_tab(grid_id, old=True)\n",
    "# response matrix using selected energy bins and corrected for number of active dets\n",
    "drm_matrix_old = drm_tab_old['MATRIX'][:,chan_low_old:(chan_hi_old+1)]*Ndet_ratio \n",
    "photon_Es_old = (drm_tab_old['ENERG_LO'] + drm_tab_old['ENERG_HI'])/2.\n",
    "Aeff_old = np.sum(drm_matrix_old, axis=1) # summing Aeff over energy bins for each photon Energy\n",
    "\n",
    "plt.plot(photon_Es_old, Aeff_old, label='Old Resp')\n",
    "\n",
    "plt.grid(True)\n",
    "plt.xscale('log')\n",
    "plt.xlim(1e1, 2e3)\n",
    "plt.xlabel('Photon Energy (keV)')\n",
    "plt.ylabel(r'$A_{\\rm eff} (cm^2)$ ')\n",
    "plt.legend()\n",
    "plt.title(r'Grid ID %d'%(grid_id))"
   ]
  },
  {
   "cell_type": "code",
   "execution_count": null,
   "metadata": {},
   "outputs": [],
   "source": []
  }
 ],
 "metadata": {
  "kernelspec": {
   "display_name": "Python 3 (ipykernel)",
   "language": "python",
   "name": "python3"
  },
  "language_info": {
   "codemirror_mode": {
    "name": "ipython",
    "version": 3
   },
   "file_extension": ".py",
   "mimetype": "text/x-python",
   "name": "python",
   "nbconvert_exporter": "python",
   "pygments_lexer": "ipython3",
   "version": "3.9.12"
  }
 },
 "nbformat": 4,
 "nbformat_minor": 4
}
