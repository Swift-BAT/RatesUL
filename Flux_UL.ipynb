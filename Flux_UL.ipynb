{
 "cells": [
  {
   "cell_type": "code",
   "execution_count": 1,
   "metadata": {},
   "outputs": [
    {
     "name": "stderr",
     "output_type": "stream",
     "text": [
      "/Users/mcrnogor/opt/anaconda3/lib/python3.7/site-packages/pyfits/__init__.py:22: PyFITSDeprecationWarning: PyFITS is deprecated, please use astropy.io.fits\n",
      "  PyFITSDeprecationWarning)  # noqa\n"
     ]
    }
   ],
   "source": [
    "import numpy as np\n",
    "import matplotlib.pyplot as plt\n",
    "from astropy.io import fits as pyfits\n",
    "import sys, os\n",
    "import healpy as hp\n",
    "\n",
    "sys.path.append('/Users/mcrnogor/Desktop/Swift-GBM/scripts/') # path to the functions script\n",
    "from calc_BAT_ul import *\n",
    "\n",
    "from copy import copy\n",
    "from kapteyn import maputils\n",
    "import ephem"
   ]
  },
  {
   "cell_type": "code",
   "execution_count": 2,
   "metadata": {},
   "outputs": [],
   "source": [
    "events = [\"GW200112_155838\"]"
   ]
  },
  {
   "cell_type": "code",
   "execution_count": 8,
   "metadata": {},
   "outputs": [
    {
     "name": "stderr",
     "output_type": "stream",
     "text": [
      "/Users/mcrnogor/opt/anaconda3/lib/python3.7/site-packages/healpy/projaxes.py:543: UserWarning: 0.0 180.0 -180.0 180.0\n",
      "  pmin / dtor, pmax / dtor, mmin / dtor, mmax / dtor\n",
      "/Users/mcrnogor/opt/anaconda3/lib/python3.7/site-packages/healpy/projaxes.py:658: UserWarning: The interval between parallels is 30 deg -0.00'.\n",
      "  vdeg, varcmin\n",
      "/Users/mcrnogor/opt/anaconda3/lib/python3.7/site-packages/healpy/projaxes.py:666: UserWarning: The interval between meridians is 30 deg -0.00'.\n",
      "  vdeg, varcmin\n"
     ]
    },
    {
     "data": {
      "text/plain": [
       "<Figure size 432x288 with 0 Axes>"
      ]
     },
     "metadata": {},
     "output_type": "display_data"
    },
    {
     "data": {
      "text/plain": [
       "<Figure size 612x388.8 with 0 Axes>"
      ]
     },
     "metadata": {},
     "output_type": "display_data"
    }
   ],
   "source": [
    "for x in events:\n",
    "    \n",
    "    name = x # looping through the event names \n",
    "    \n",
    "    bat_info = \"/Users/mcrnogor/Desktop/Swift-GBM/results_O3b_2020/\" + name + \"/info.txt\"\n",
    "    lines = open(bat_info).readlines()\n",
    "    bat_ra = float(lines[25].split()[-1])\n",
    "    bat_dec = float(lines[26].split()[-1])\n",
    "    earth_ra = float(lines[23].split()[-1])\n",
    "    earth_dec = float(lines[24].split()[-1])\n",
    "    earth_rad = 69. # Earth radius for Swift BAT\n",
    "    t0 = float(lines[8].split()[-1]) # LIGO trigger time \n",
    "    \n",
    "    # loading the 1-s BAT ligtcurve\n",
    "    lc_path = \"/Users/mcrnogor/Desktop/Swift-GBM/results_O3b_2020/\" +name + \"/1s_rate_sort.lc\"\n",
    "    lc_1s = pyfits.open(lc_path)\n",
    "    counts_1s = lc_1s[1].data['COUNTS']\n",
    "    time_1s = lc_1s[1].data['TIME'] - t0\n",
    "    rate_1s = counts_1s \n",
    "\n",
    "    # starting the light curve from -1 to 30 to match GBM search window\n",
    "    index = [i for i,x in enumerate(time_1s) if x>=-1 and x<=30]\n",
    "    time_new = time_1s[index]\n",
    "    counts_new = counts_1s[index]\n",
    "    rate_new = rate_1s[index]\n",
    "    std = np.std(rate_new) # std from the 0.5 second lightcurve\n",
    "    \n",
    "    Ndets_tot = 32768.0 # total dets\n",
    "    Ndets_active = float(lines[36].split()[-1]) # current number of active dets\n",
    "    Ndet_ratio = Ndets_active / Ndets_tot\n",
    "\n",
    "    IDs = [1, 2, 3, 4, 5, 7, 8, 9, 10, 11, 12, 13, 14, 15, 16, 17, 18, 19, 20, 21, 22, 23, 24, 25, 26, 27, 29, 30, 31, 32, 33]\n",
    "    rate_std = std # the std of rates from the LC\n",
    "    rate_upper_limit = 5*rate_std\n",
    "    # print(\"5sigma rate upper limit: \", rate_upper_limit)\n",
    "    \n",
    "    ul_5sigma = [] \n",
    "    \n",
    "    for i in IDs:\n",
    "        grid_id = i \n",
    "        # print(\"grid_id: \", grid_id)\n",
    "\n",
    "        # using energy bin 15-350 and ignoring 350-500\n",
    "        chan_low = 0 \n",
    "        chan_hi = 3\n",
    "\n",
    "        # getting the NITRATES DRM table\n",
    "        drm_tab = get_drm_tab(grid_id)\n",
    "\n",
    "        # response matrix using selected energy bins and corrected for number of active dets\n",
    "        drm_matrix = drm_tab['MATRIX'][:,chan_low:(chan_hi+1)] * Ndet_ratio \n",
    "\n",
    "        # find the flux that gives an expected rate equal to the rate upper limit\n",
    "        flux_upper_limit = rate2band_eflux(rate_upper_limit, drm_matrix,\\\n",
    "                                       drm_tab['ENERG_LO'], drm_tab['ENERG_HI'],\\\n",
    "                                       alpha, beta, Epeak, flux_elo, flux_ehi)\n",
    "        #print(\"5-sigma flux upper limit [erg/cm2/s]: \", flux_upper_limit)\n",
    "        ul_5sigma.append(flux_upper_limit)\n",
    "        np.save(os.path.join('/Users/mcrnogor/Desktop/Swift-GBM/results_O3b_2020/', name + \"_BAT_gridID_ul.npy\"), ul_5sigma)\n",
    "        \n",
    "    ul_min = ul_5sigma[12]\n",
    "    ul_max = ul_5sigma[15]\n",
    "    \n",
    "    # plotting the BAT FoV\n",
    "    bat_img = \"/Users/mcrnogor/Desktop/Swift-GBM/results_O3b_2020/\" + name + \"/batfov.fits\"\n",
    "    res = .25\n",
    "    nra = int(360. / res)\n",
    "    ndec = int(180. / res)\n",
    "\n",
    "    header = {'NAXIS'  : 2, 'NAXIS1': nra, 'NAXIS2': ndec,\n",
    "    'CTYPE1' : 'RA---MOL',\n",
    "    'CRVAL1' : bat_ra, 'CRPIX1' : int(.5 * nra), 'CUNIT1' : 'deg', 'CDELT1' : -0.25,\n",
    "    'CTYPE2' : 'DEC--MOL',\n",
    "    'CRVAL2' : bat_dec, 'CRPIX2' : int(.5 * ndec), 'CUNIT2' : 'deg', 'CDELT2' : 0.25,\n",
    "          }\n",
    "\n",
    "    fits = maputils.FITSimage(bat_img, hdunr=0).reproject_to(header)\n",
    "    \n",
    "    # producing a healpy map\n",
    "    nside = 512 # as GBM\n",
    "    npix = hp.nside2npix(nside)\n",
    "    val = np.zeros(npix, np.float64)\n",
    "    th, ph = hp.pix2ang(nside, np.arange(npix))\n",
    "    ra, dec = np.degrees([ph, .5 * np.pi - th])\n",
    "\n",
    "    i, j = fits.proj.topixel((ra, dec))\n",
    "    val = fits.dat[j.astype(int), i.astype(int)]\n",
    "\n",
    "    vmax = val[~np.isnan(val)].max()\n",
    "    vmin = val[~np.isnan(val)].min()\n",
    "    k = (ul_max - ul_min)/(vmax - vmin)\n",
    "    m = ul_max - k*vmax\n",
    "    val = k*val+m # rescale FOV map as an upper limit map\n",
    "    val[np.isnan(val)] = hp.UNSEEN\n",
    "    val[np.isnan(val)] = hp.UNSEEN\n",
    "    # print(\"Min: %.3e\" % val[val > hp.UNSEEN].min())\n",
    "    # print(\"Max: %.3e\" % val[val > hp.UNSEEN].max())\n",
    "    \n",
    "    Earth_limb_region_x = []\n",
    "    Earth_limb_region_y = []\n",
    "    \n",
    "    # mask out the Earth\n",
    "    earth_vec = hp.ang2vec(np.radians(90. - earth_dec), np.radians(earth_ra))\n",
    "    earth_pix = hp.query_disc(nside, earth_vec, np.radians(earth_rad))\n",
    "    val[earth_pix] = hp.UNSEEN\n",
    "    plt.figure()\n",
    "    hp.mollview(val, rot=0, fig=3, norm='log', cmap='RdPu', title=name)\n",
    "    hp.graticule()\n",
    "    plt.annotate(r\"0$^o$\", (0.02, 0.02), size=15)\n",
    "    plt.annotate(r\"-30$^o$\", (0.31, 0.02), horizontalalignment='center', size=15)\n",
    "    plt.annotate(r\"30$^o$\", (-0.31, 0.02), horizontalalignment='center', size=15)\n",
    "    plt.annotate(r\"-60$^o$\", (0.65, 0.02), horizontalalignment='center', size=15)\n",
    "    plt.annotate(r\"60$^o$\", (-0.65, 0.02), horizontalalignment='center', size=15)\n",
    "    plt.annotate(r\"-90$^o$\", (0.97, 0.02), horizontalalignment='center', size=15)\n",
    "    plt.annotate(r\"90$^o$\", (-0.97, 0.02), horizontalalignment='center', size=15)\n",
    "    plt.annotate(r\"-120$^o$\", (1.30, 0.02), horizontalalignment='center', size=15)\n",
    "    plt.annotate(r\"120$^o$\", (-1.30, 0.02), horizontalalignment='center', size=15)\n",
    "    plt.annotate(r\"-150$^o$\", (1.65, 0.02), horizontalalignment='center', size=15)\n",
    "    plt.annotate(r\"150$^o$\", (-1.65, 0.02), horizontalalignment='center', size=15)\n",
    "    plt.annotate(r\"+30$^o$\", (-1.97,  0.45), horizontalalignment='center', verticalalignment='center', size=15)\n",
    "    plt.annotate(r\"-30$^o$\", (-1.99, -0.45), horizontalalignment='center', verticalalignment='center', size=15)\n",
    "    plt.annotate(r\"+60$^o$\", (-1.40,  0.80), horizontalalignment='center', verticalalignment='center', size=15)\n",
    "    plt.annotate(r\"-60$^o$\", (-1.40, -0.80), horizontalalignment='center', verticalalignment='center', size=15)\n",
    "    zlabel = r\"5$\\sigma$ Flux U.L. [erg/cm2/s]\"\n",
    "    plt.annotate(zlabel, (0.5, 0.05), horizontalalignment='center', size=10, xycoords='figure fraction')\n",
    "    plt.annotate(\"15-350 keV\", (.85, .25), size=10, xycoords='figure fraction')\n",
    "    plt.annotate(\"Normal Spectrum\", (.85, .21), size=10, xycoords='figure fraction')\n",
    "    plt.annotate(\"1-sec Emission\", (.85, .17), size=10, xycoords='figure fraction')\n",
    "\n",
    "    os.path.join('Check', 'train_set'),\n",
    "    np.save(os.path.join('/Users/mcrnogor/Desktop/Swift-GBM/results_O3b_2020/', name + \".npy\"), val)\n",
    "    plt.savefig(os.path.join('/Users/mcrnogor/Desktop/Swift-GBM/results_O3b_2020/', name + \".png\"), dpi=300)\n",
    "    plt.clf()\n",
    "    \n",
    "    BAT_coord = np.zeros(2)\n",
    "    BAT_coord[0] = bat_ra\n",
    "    BAT_coord[1] = bat_dec\n",
    "    np.save(os.path.join('/Users/mcrnogor/Desktop/Swift-GBM/results_O3b_2020/', name + \"_BAT_coord.npy\"), BAT_coord)"
   ]
  },
  {
   "cell_type": "code",
   "execution_count": null,
   "metadata": {},
   "outputs": [],
   "source": []
  }
 ],
 "metadata": {
  "kernelspec": {
   "display_name": "Python 3",
   "language": "python",
   "name": "python3"
  },
  "language_info": {
   "codemirror_mode": {
    "name": "ipython",
    "version": 3
   },
   "file_extension": ".py",
   "mimetype": "text/x-python",
   "name": "python",
   "nbconvert_exporter": "python",
   "pygments_lexer": "ipython3",
   "version": "3.7.6"
  }
 },
 "nbformat": 4,
 "nbformat_minor": 4
}
