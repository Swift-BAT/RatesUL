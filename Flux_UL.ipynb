{
 "cells": [
  {
   "cell_type": "code",
   "execution_count": 1,
   "metadata": {},
   "outputs": [
    {
     "name": "stderr",
     "output_type": "stream",
     "text": [
      "/Users/mcrnogor/opt/anaconda3/lib/python3.7/site-packages/pyfits/__init__.py:22: PyFITSDeprecationWarning: PyFITS is deprecated, please use astropy.io.fits\n",
      "  PyFITSDeprecationWarning)  # noqa\n"
     ]
    }
   ],
   "source": [
    "import numpy as np\n",
    "import matplotlib.pyplot as plt\n",
    "from astropy.io import fits as pyfits\n",
    "import sys, os\n",
    "import healpy as hp\n",
    "from calc_BAT_ul import *\n",
    "\n",
    "from copy import copy\n",
    "from kapteyn import maputils\n",
    "import ephem"
   ]
  },
  {
   "cell_type": "code",
   "execution_count": 2,
   "metadata": {},
   "outputs": [],
   "source": [
    "events = [\"GW200112_155838\"]"
   ]
  },
  {
   "cell_type": "code",
   "execution_count": 8,
   "metadata": {},
   "outputs": [
    {
     "name": "stderr",
     "output_type": "stream",
     "text": [
      "/Users/mcrnogor/opt/anaconda3/lib/python3.7/site-packages/healpy/projaxes.py:543: UserWarning: 0.0 180.0 -180.0 180.0\n",
      "  pmin / dtor, pmax / dtor, mmin / dtor, mmax / dtor\n",
      "/Users/mcrnogor/opt/anaconda3/lib/python3.7/site-packages/healpy/projaxes.py:658: UserWarning: The interval between parallels is 30 deg -0.00'.\n",
      "  vdeg, varcmin\n",
      "/Users/mcrnogor/opt/anaconda3/lib/python3.7/site-packages/healpy/projaxes.py:666: UserWarning: The interval between meridians is 30 deg -0.00'.\n",
      "  vdeg, varcmin\n"
     ]
    },
    {
     "data": {
      "text/plain": [
       "<Figure size 432x288 with 0 Axes>"
      ]
     },
     "metadata": {},
     "output_type": "display_data"
    },
    {
     "data": {
      "text/plain": [
       "<Figure size 612x388.8 with 0 Axes>"
      ]
     },
     "metadata": {},
     "output_type": "display_data"
    }
   ],
   "source": [
    "for x in events:\n",
    "    \n",
    "    name = x # looping through the event names \n",
    "    \n",
    "    bat_info = \"test-GW200112_155838/info.txt\"\n",
    "    lines = open(bat_info).readlines()\n",
    "    bat_ra = float(lines[25].split()[-1])\n",
    "    bat_dec = float(lines[26].split()[-1])\n",
    "    earth_ra = float(lines[23].split()[-1])\n",
    "    earth_dec = float(lines[24].split()[-1])\n",
    "    earth_rad = 69. # Earth radius for Swift BAT\n",
    "    t0 = float(lines[8].split()[-1]) # LIGO trigger time \n",
    "    \n",
    "    # loading the 1-s BAT ligtcurve\n",
    "    lc_path = \"test-GW200112_155838/1s_rate_sort.lc\"\n",
    "    lc_1s = pyfits.open(lc_path)\n",
    "    counts_1s = lc_1s[1].data['COUNTS']\n",
    "    time_1s = lc_1s[1].data['TIME'] - t0\n",
    "    rate_1s = counts_1s \n",
    "\n",
    "    # starting the light curve from -1 to 30 to match GBM search window\n",
    "    index = [i for i,x in enumerate(time_1s) if x>=-1 and x<=30]\n",
    "    time_new = time_1s[index]\n",
    "    counts_new = counts_1s[index]\n",
    "    rate_new = rate_1s[index]\n",
    "    std = np.std(rate_new) # std from the 0.5 second lightcurve\n",
    "    \n",
    "    Ndets_tot = 32768.0 # total dets\n",
    "    Ndets_active = float(lines[36].split()[-1]) # current number of active dets\n",
    "    Ndet_ratio = Ndets_active / Ndets_tot\n",
    "\n",
    "    IDs = [1, 2, 3, 4, 5, 7, 8, 9, 10, 11, 12, 13, 14, 15, 16, 17, 18, 19, 20, 21, 22, 23, 24, 25, 26, 27, 29, 30, 31, 32, 33]\n",
    "    rate_std = std # the std of rates from the LC\n",
    "    rate_upper_limit = 5*rate_std\n",
    "    # print(\"5sigma rate upper limit: \", rate_upper_limit)\n",
    "    \n",
    "    ul_5sigma = [] \n",
    "    \n",
    "    for i in IDs:\n",
    "        grid_id = i \n",
    "        # print(\"grid_id: \", grid_id)\n",
    "\n",
    "        # using energy bin 15-350 and ignoring 350-500\n",
    "        chan_low = 0 \n",
    "        chan_hi = 3\n",
    "\n",
    "        # getting the NITRATES DRM table\n",
    "        drm_tab = get_drm_tab(grid_id)\n",
    "\n",
    "        # response matrix using selected energy bins and corrected for number of active dets\n",
    "        drm_matrix = drm_tab['MATRIX'][:,chan_low:(chan_hi+1)] * Ndet_ratio \n",
    "\n",
    "        # find the flux that gives an expected rate equal to the rate upper limit\n",
    "        flux_upper_limit = rate2band_eflux(rate_upper_limit, drm_matrix,\\\n",
    "                                       drm_tab['ENERG_LO'], drm_tab['ENERG_HI'],\\\n",
    "                                       alpha, beta, Epeak, flux_elo, flux_ehi)\n",
    "        #print(\"5-sigma flux upper limit [erg/cm2/s]: \", flux_upper_limit)\n",
    "        ul_5sigma.append(flux_upper_limit)\n",
    "        np.save(os.path.join('test-GW200112_155838', name + \"_BAT_gridID_ul.npy\"), ul_5sigma)\n",
    "        "
   ]
  },
  {
   "cell_type": "code",
   "execution_count": null,
   "metadata": {},
   "outputs": [],
   "source": []
  }
 ],
 "metadata": {
  "kernelspec": {
   "display_name": "Python 3",
   "language": "python",
   "name": "python3"
  },
  "language_info": {
   "codemirror_mode": {
    "name": "ipython",
    "version": 3
   },
   "file_extension": ".py",
   "mimetype": "text/x-python",
   "name": "python",
   "nbconvert_exporter": "python",
   "pygments_lexer": "ipython3",
   "version": "3.7.6"
  }
 },
 "nbformat": 4,
 "nbformat_minor": 4
}
